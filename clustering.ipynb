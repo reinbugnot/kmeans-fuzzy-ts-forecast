{
 "cells": [
  {
   "cell_type": "code",
   "execution_count": 15,
   "id": "2deb8153",
   "metadata": {},
   "outputs": [],
   "source": [
    "import numpy as np\n",
    "from sklearn.cluster import KMeans"
   ]
  },
  {
   "cell_type": "code",
   "execution_count": 16,
   "id": "e3494a4c",
   "metadata": {},
   "outputs": [],
   "source": [
    "def calc_distance(data, labels):\n",
    "    unique_labels = np.unique(labels)\n",
    "    centroids = np.array([np.mean(data[labels == each_label]) for each_label in unique_labels])\n",
    "    distance_matrix = np.abs(centroids.reshape(-1, 1) - centroids)\n",
    "    np.fill_diagonal(distance_matrix, np.inf)\n",
    "    return distance_matrix, unique_labels"
   ]
  },
  {
   "cell_type": "code",
   "execution_count": 17,
   "id": "a68ebb44",
   "metadata": {},
   "outputs": [],
   "source": [
    "data = np.array([0,2,2,3,5,3,7,8,12,13,14,7,8,9,12,13]).reshape(-1, 1)\n",
    "min_distance = 2"
   ]
  },
  {
   "cell_type": "code",
   "execution_count": 18,
   "id": "7b5abb87",
   "metadata": {},
   "outputs": [],
   "source": [
    "def kmeans_1d(x, min_distance):\n",
    "\n",
    "    # Initialize Clusters\n",
    "    labels = np.arange(len(x))\n",
    "\n",
    "    # Combine pairs of clusters if centroids are within specified minimum distance\n",
    "    while True:\n",
    "        distance_matrix, unique_labels = calc_distance(x, labels)\n",
    "        min_distance_clusters = np.unravel_index(np.argmin(distance_matrix, axis=None), distance_matrix.shape)\n",
    "        if distance_matrix[min_distance_clusters] > min_distance:\n",
    "            break\n",
    "        labels[labels == unique_labels[min_distance_clusters[1]]] = unique_labels[min_distance_clusters[0]]\n",
    "\n",
    "    centroids = [np.mean(x[labels == each_label]) for each_label in np.unique(labels)]\n",
    "    \n",
    "    return centroids"
   ]
  },
  {
   "cell_type": "code",
   "execution_count": 21,
   "id": "c726146a",
   "metadata": {},
   "outputs": [
    {
     "data": {
      "text/plain": [
       "[0.0, 2.5, 5.0, 7.5, 12.5, 14.0, 9.0]"
      ]
     },
     "execution_count": 21,
     "metadata": {},
     "output_type": "execute_result"
    }
   ],
   "source": [
    "kmeans_1d(data, 1)"
   ]
  },
  {
   "cell_type": "code",
   "execution_count": null,
   "id": "064e06b6",
   "metadata": {},
   "outputs": [],
   "source": []
  }
 ],
 "metadata": {
  "kernelspec": {
   "display_name": "Python 3 (ipykernel)",
   "language": "python",
   "name": "python3"
  },
  "language_info": {
   "codemirror_mode": {
    "name": "ipython",
    "version": 3
   },
   "file_extension": ".py",
   "mimetype": "text/x-python",
   "name": "python",
   "nbconvert_exporter": "python",
   "pygments_lexer": "ipython3",
   "version": "3.9.7"
  }
 },
 "nbformat": 4,
 "nbformat_minor": 5
}
